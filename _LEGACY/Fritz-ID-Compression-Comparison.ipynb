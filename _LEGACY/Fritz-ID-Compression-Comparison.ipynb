{
 "cells": [
  {
   "cell_type": "code",
   "execution_count": 1,
   "metadata": {
    "collapsed": false
   },
   "outputs": [
    {
     "name": "stderr",
     "output_type": "stream",
     "text": [
      "/Users/Fritz/Virtualenvs/cs222/lib/python2.7/site-packages/matplotlib/font_manager.py:273: UserWarning: Matplotlib is building the font cache using fc-list. This may take a moment.\n",
      "  warnings.warn('Matplotlib is building the font cache using fc-list. This may take a moment.')\n"
     ]
    }
   ],
   "source": [
    "%load_ext autoreload\n",
    "%autoreload 2\n",
    "\n",
    "import compression as C\n",
    "import backports.lzma as lzma\n",
    "import numpy as np\n",
    "\n",
    "from matplotlib.pyplot import imshow\n",
    "import matplotlib.pyplot as plt\n",
    "%matplotlib inline\n",
    "\n",
    "# Load the whole stack\n",
    "ac3 = C.Util.load_data('ac3', -1, '/Volumes/VIS2016/ac3/rhoana/')\n",
    "\n",
    "# maybe this can be tuned\n",
    "LZMA_filters = [{\"id\": lzma.FILTER_LZMA1, \"preset\": lzma.PRESET_EXTREME}]\n"
   ]
  },
  {
   "cell_type": "code",
   "execution_count": 2,
   "metadata": {
    "collapsed": true
   },
   "outputs": [],
   "source": [
    "rle_ids = C.RLE.encode(ac3)[4::2]"
   ]
  },
  {
   "cell_type": "code",
   "execution_count": 48,
   "metadata": {
    "collapsed": false
   },
   "outputs": [
    {
     "name": "stdout",
     "output_type": "stream",
     "text": [
      "Size: 2987 Len 1024\n"
     ]
    }
   ],
   "source": [
    "# Daniel's\n",
    "_, _, _, ids = C.SRLE.encode(ac3[0])\n",
    "com_size = C.Util.get_size(\n",
    "    C.LZMA.compress(\n",
    "        C.Pack.encode(ids)[1],\n",
    "        format=lzma.FORMAT_RAW,\n",
    "        filters=LZMA_filters\n",
    "    )\n",
    ")\n",
    "\n",
    "print 'Size:', com_size, 'Len', len(ids)"
   ]
  },
  {
   "cell_type": "code",
   "execution_count": 35,
   "metadata": {
    "collapsed": false
   },
   "outputs": [
    {
     "name": "stdout",
     "output_type": "stream",
     "text": [
      "Compressed RLE IDs 3314\n",
      "Compressed Hashed RLE IDs 2926\n",
      "Compressed Hash table 759\n",
      "Compressed Hashed RLE IDs (inkl. hash table) 3751\n"
     ]
    },
    {
     "data": {
      "image/png": "[encoded data removed]",
      "text/plain": [
       "<matplotlib.figure.Figure at 0x135e7a2d0>"
      ]
     },
     "metadata": {},
     "output_type": "display_data"
    }
   ],
   "source": [
    "rle_ids = C.RLE.encode(ac3[0:1])[5::2]\n",
    "u_ids, h_ids = C.HashNums.hash(rle_ids)\n",
    "\n",
    "assert (np.array_equal(rle_ids, C.HashNums.unhash(u_ids, h_ids)))\n",
    "\n",
    "com_ids = C.LZMA.compress(rle_ids.tobytes(), format=lzma.FORMAT_RAW, filters=LZMA_filters)\n",
    "com_h_ids = C.LZMA.compress(h_ids.tobytes(), format=lzma.FORMAT_RAW, filters=LZMA_filters)\n",
    "com_u_ids = C.LZMA.compress(u_ids.tobytes(), format=lzma.FORMAT_RAW, filters=LZMA_filters)\n",
    "com_u_h_ids = C.LZMA.compress(u_ids.tobytes() + h_ids.tobytes(), format=lzma.FORMAT_RAW, filters=LZMA_filters)\n",
    "\n",
    "plt.hist(rle_ids, bins=range(min(rle_ids), max(rle_ids)))\n",
    "plt.show\n",
    "\n",
    "print 'Compressed RLE IDs', C.Util.get_size(com_ids)\n",
    "print 'Compressed Hashed RLE IDs', C.Util.get_size(com_h_ids)\n",
    "print 'Compressed Hash table', C.Util.get_size(com_u_ids)\n",
    "print 'Compressed Hashed RLE IDs (inkl. hash table)', C.Util.get_size(com_u_h_ids)"
   ]
  },
  {
   "cell_type": "code",
   "execution_count": 31,
   "metadata": {
    "collapsed": false
   },
   "outputs": [
    {
     "name": "stdout",
     "output_type": "stream",
     "text": [
      "6178 6278\n",
      "816 820 816 820\n"
     ]
    }
   ],
   "source": [
    "zz_d_u_ids = C.zigzag.encode(u_ids - np.median(u_ids))\n",
    "\n",
    "s_com_u_ids = C.Util.get_size(u_ids.astype(np.uint16))\n",
    "s_com_zz_d_u_ids = C.Util.get_size(C.zigzag.encode(u_ids - np.median(u_ids)))\n",
    "s_com_u_ids = C.Util.get_size(C.LZMA.compress(u_ids))\n",
    "s_com_zz_d_u_ids = C.Util.get_size(C.LZMA.compress(C.zigzag.encode(u_ids - np.median(u_ids))))\n",
    "\n",
    "print max(u_ids), max(zz_d_u_ids)\n",
    "print s_u_ids, s_zz_d_u_ids, s_com_u_ids, s_com_zz_d_u_ids"
   ]
  },
  {
   "cell_type": "code",
   "execution_count": 6,
   "metadata": {
    "collapsed": false
   },
   "outputs": [
    {
     "data": {
      "text/plain": [
       "<function matplotlib.pyplot.show>"
      ]
     },
     "execution_count": 6,
     "metadata": {},
     "output_type": "execute_result"
    },
    {
     "data": {
      "image/png": "[encoded data removed]",
      "text/plain": [
       "<matplotlib.figure.Figure at 0x10b82c6d0>"
      ]
     },
     "metadata": {},
     "output_type": "display_data"
    }
   ],
   "source": [
    "delta_h_ids = np.append(\n",
    "    h_ids[0],\n",
    "    np.diff(h_ids)\n",
    ")\n",
    "plt.hist(delta_h_ids, bins=range(min(delta_h_ids), max(delta_h_ids)))\n",
    "plt.show"
   ]
  },
  {
   "cell_type": "code",
   "execution_count": 14,
   "metadata": {
    "collapsed": false
   },
   "outputs": [
    {
     "data": {
      "text/plain": [
       "array([  0,   1,   1, ...,  -3,  -6, -63])"
      ]
     },
     "execution_count": 14,
     "metadata": {},
     "output_type": "execute_result"
    }
   ],
   "source": [
    "delta_h_ids"
   ]
  },
  {
   "cell_type": "code",
   "execution_count": 19,
   "metadata": {
    "collapsed": false
   },
   "outputs": [
    {
     "name": "stdout",
     "output_type": "stream",
     "text": [
      "2506 4290 3535\n"
     ]
    },
    {
     "data": {
      "image/png": "[encoded data removed]",
      "text/plain": [
       "<matplotlib.figure.Figure at 0x1347fb310>"
      ]
     },
     "metadata": {},
     "output_type": "display_data"
    }
   ],
   "source": [
    "zz_delta_h_ids = C.zigzag.encode(delta_h_ids)\n",
    "\n",
    "s_h_ids = C.Util.get_size(C.LZMA.compress(h_ids.astype(np.uint16), format=lzma.FORMAT_RAW, filters=LZMA_filters))\n",
    "s_delta_h_ids = C.Util.get_size(C.LZMA.compress(delta_h_ids, format=lzma.FORMAT_RAW, filters=LZMA_filters))\n",
    "s_zz_delta_h_ids = C.Util.get_size(C.LZMA.compress(zz_delta_h_ids.astype(np.uint16), format=lzma.FORMAT_RAW, filters=LZMA_filters))\n",
    "\n",
    "plt.hist(zz_delta_h_ids, bins=range(min(zz_delta_h_ids), max(zz_delta_h_ids)))\n",
    "plt.show\n",
    "\n",
    "print s_h_ids, s_delta_h_ids, s_zz_delta_h_ids"
   ]
  },
  {
   "cell_type": "code",
   "execution_count": 17,
   "metadata": {
    "collapsed": false
   },
   "outputs": [
    {
     "data": {
      "text/plain": [
       "650"
      ]
     },
     "execution_count": 17,
     "metadata": {},
     "output_type": "execute_result"
    }
   ],
   "source": [
    "max(zz_delta_h_ids)"
   ]
  },
  {
   "cell_type": "code",
   "execution_count": 40,
   "metadata": {
    "collapsed": false
   },
   "outputs": [
    {
     "data": {
      "text/plain": [
       "3592"
      ]
     },
     "execution_count": 40,
     "metadata": {},
     "output_type": "execute_result"
    },
    {
     "data": {
      "image/png": "[encoded data removed]",
      "text/plain": [
       "<matplotlib.figure.Figure at 0x109926a50>"
      ]
     },
     "metadata": {},
     "output_type": "display_data"
    }
   ],
   "source": [
    "delta_nodelta_mixed_h_ids = np.copy(delta_h_ids)\n",
    "neg_idx, = np.where(delta_h_ids < 0)\n",
    "delta_nodelta_mixed_h_ids[neg_idx] = h_ids[neg_idx]\n",
    "delta_nodelta_mixed_h_ids = delta_nodelta_mixed_h_ids.astype(np.uint)\n",
    "\n",
    "plt.hist(delta_nodelta_mixed_h_ids, bins=range(min(delta_nodelta_mixed_h_ids), max(delta_nodelta_mixed_h_ids)))\n",
    "plt.show\n",
    "\n",
    "C.Util.get_size(C.LZMA.compress(delta_nodelta_mixed_h_ids.tobytes(), format=lzma.FORMAT_RAW, filters=LZMA_filters))"
   ]
  },
  {
   "cell_type": "code",
   "execution_count": 81,
   "metadata": {
    "collapsed": false
   },
   "outputs": [
    {
     "name": "stdout",
     "output_type": "stream",
     "text": [
      "20555 2792 0 0\n",
      "Total after packing (8 and 16 bits) 3434\n",
      "Total everything in 16 bits 3158\n"
     ]
    }
   ],
   "source": [
    "total_bytes = 0\n",
    "\n",
    "ui8, ui16, ui32, ui64 = C.Extract.encode(delta_nodelta_mixed_h_ids)\n",
    "\n",
    "print len(ui8), len(ui16), len(ui32), len(ui64)\n",
    "\n",
    "total_bytes += C.Util.get_size(C.LZMA.compress(ui8, format=lzma.FORMAT_RAW, filters=LZMA_filters))\n",
    "total_bytes += C.Util.get_size(C.LZMA.compress(ui16, format=lzma.FORMAT_RAW, filters=LZMA_filters))\n",
    "# total_bytes += C.Util.get_size(C.LZMA.compress(ui32, format=lzma.FORMAT_RAW, filters=LZMA_filters))\n",
    "# total_bytes += C.Util.get_size(C.LZMA.compress(ui64, format=lzma.FORMAT_RAW, filters=LZMA_filters))\n",
    "\n",
    "print 'Total after packing (8 and 16 bits)', total_bytes\n",
    "print 'Total everything in 16 bits', C.Util.get_size(C.LZMA.compress(delta_nodelta_mixed_h_ids.astype(np.uint16), format=lzma.FORMAT_RAW, filters=LZMA_filters))"
   ]
  },
  {
   "cell_type": "code",
   "execution_count": 66,
   "metadata": {
    "collapsed": false
   },
   "outputs": [
    {
     "data": {
      "text/plain": [
       "iinfo(min=0, max=255, dtype=uint8)"
      ]
     },
     "execution_count": 66,
     "metadata": {},
     "output_type": "execute_result"
    }
   ],
   "source": [
    "np.iinfo(np.uint8)"
   ]
  },
  {
   "cell_type": "code",
   "execution_count": 67,
   "metadata": {
    "collapsed": false
   },
   "outputs": [
    {
     "data": {
      "text/plain": [
       "<method 'max' of 'numpy.generic' objects>"
      ]
     },
     "execution_count": 67,
     "metadata": {},
     "output_type": "execute_result"
    }
   ],
   "source": [
    "np.uint8.max"
   ]
  },
  {
   "cell_type": "code",
   "execution_count": 74,
   "metadata": {
    "collapsed": false
   },
   "outputs": [
    {
     "name": "stdout",
     "output_type": "stream",
     "text": [
      "41113 (41113,)\n"
     ]
    }
   ],
   "source": [
    "all = C.RLE.encode(ac3[0:1])\n",
    "print len(all), all.shape\n",
    "h = all[:3]\n",
    "rl = all[3::2]\n",
    "ids = all[4::2]"
   ]
  },
  {
   "cell_type": "code",
   "execution_count": 78,
   "metadata": {
    "collapsed": false
   },
   "outputs": [
    {
     "data": {
      "text/plain": [
       "15454"
      ]
     },
     "execution_count": 78,
     "metadata": {},
     "output_type": "execute_result"
    }
   ],
   "source": [
    "C.Util.get_size(C.LZMA.compress(all, format=lzma.FORMAT_RAW, filters=LZMA_filters))"
   ]
  },
  {
   "cell_type": "code",
   "execution_count": 83,
   "metadata": {
    "collapsed": false
   },
   "outputs": [
    {
     "data": {
      "text/plain": [
       "202995"
      ]
     },
     "execution_count": 83,
     "metadata": {},
     "output_type": "execute_result"
    }
   ],
   "source": [
    "from bitstring import BitArray, BitStream\n",
    "egc_ids = BitStream().join([BitArray(se=i) for i in delta_h_ids])\n",
    "C.Util.get_size(C.LZMA.compress(all, format=lzma.FORMAT_RAW, filters=LZMA_filters))"
   ]
  },
  {
   "cell_type": "code",
   "execution_count": null,
   "metadata": {
    "collapsed": true
   },
   "outputs": [],
   "source": []
  }
 ],
 "metadata": {
  "kernelspec": {
   "display_name": "Python 2",
   "language": "python",
   "name": "python2"
  },
  "language_info": {
   "codemirror_mode": {
    "name": "ipython",
    "version": 2
   },
   "file_extension": ".py",
   "mimetype": "text/x-python",
   "name": "python",
   "nbconvert_exporter": "python",
   "pygments_lexer": "ipython2",
   "version": "2.7.12"
  }
 },
 "nbformat": 4,
 "nbformat_minor": 1
}
