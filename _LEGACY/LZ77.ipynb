{
 "cells": [
  {
   "cell_type": "code",
   "execution_count": 51,
   "metadata": {
    "collapsed": true
   },
   "outputs": [],
   "source": [
    "import numpy as np"
   ]
  },
  {
   "cell_type": "code",
   "execution_count": 52,
   "metadata": {
    "collapsed": true
   },
   "outputs": [],
   "source": [
    "input = 'abracadabraarbadacarba'"
   ]
  },
  {
   "cell_type": "code",
   "execution_count": 64,
   "metadata": {
    "collapsed": true
   },
   "outputs": [],
   "source": [
    "def lzw(data):\n",
    " \n",
    "    dict_size = 5\n",
    "    dictionary = {\n",
    "        'a':0,\n",
    "        'b':1,\n",
    "        'c':2,\n",
    "        'd':3,\n",
    "        'r':4\n",
    "        }\n",
    "        \n",
    "    w = \"\"\n",
    "    result = []\n",
    "    for c in data:\n",
    "        wc = w + c\n",
    "        if wc in dictionary:\n",
    "            w = wc\n",
    "        else:\n",
    "            result.append(dictionary[w])\n",
    "            dictionary[wc] = dict_size\n",
    "            dict_size += 1 # increase counter\n",
    "            w = c # replace with character\n",
    " \n",
    "    if w:\n",
    "        result.append(dictionary[w])\n",
    "\n",
    "    return dictionary, result"
   ]
  },
  {
   "cell_type": "code",
   "execution_count": 59,
   "metadata": {
    "collapsed": false
   },
   "outputs": [
    {
     "data": {
      "text/plain": [
       "({'a': 0,\n",
       "  'ab': 5,\n",
       "  'abr': 12,\n",
       "  'ac': 8,\n",
       "  'aca': 18,\n",
       "  'ad': 10,\n",
       "  'ada': 17,\n",
       "  'ar': 14,\n",
       "  'arb': 19,\n",
       "  'b': 1,\n",
       "  'ba': 16,\n",
       "  'br': 6,\n",
       "  'c': 2,\n",
       "  'ca': 9,\n",
       "  'd': 3,\n",
       "  'da': 11,\n",
       "  'r': 4,\n",
       "  'ra': 7,\n",
       "  'raa': 13,\n",
       "  'rb': 15},\n",
       " [0, 1, 4, 0, 2, 0, 3, 5, 7, 0, 4, 1, 10, 8, 14, 16])"
      ]
     },
     "execution_count": 59,
     "metadata": {},
     "output_type": "execute_result"
    }
   ],
   "source": [
    "lzw(input)"
   ]
  },
  {
   "cell_type": "code",
   "execution_count": null,
   "metadata": {
    "collapsed": true
   },
   "outputs": [],
   "source": []
  },
  {
   "cell_type": "code",
   "execution_count": 62,
   "metadata": {
    "collapsed": false
   },
   "outputs": [],
   "source": [
    "def lz78(data):\n",
    "    dictionary, w = {0: ''}, 0\n",
    "    \n",
    "    # overwrite setter of dictionary to use 0 as a key if not available\n",
    "    d_dict = lambda dictionary, key: dictionary.get(key) or dictionary.__setitem__(key, len(dictionary)) or 0\n",
    "    \n",
    "    out = []\n",
    "    for c in data:\n",
    "        for e in [(w, c)]:\n",
    "            out += [e for w in [d_dict(dictionary, e)] if not w]\n",
    "            \n",
    "    print out + [(w, '')] # add end"
   ]
  },
  {
   "cell_type": "code",
   "execution_count": 63,
   "metadata": {
    "collapsed": false
   },
   "outputs": [
    {
     "name": "stdout",
     "output_type": "stream",
     "text": [
      "[(0, 'a'), (0, 'b'), (0, 'r'), (1, 'c'), (1, 'd'), (1, 'b'), (3, 'a'), (1, 'r'), (2, 'a'), (0, 'd'), (4, 'a'), (3, 'b'), (1, '')]\n"
     ]
    }
   ],
   "source": [
    "lz78(input)"
   ]
  },
  {
   "cell_type": "code",
   "execution_count": null,
   "metadata": {
    "collapsed": true
   },
   "outputs": [],
   "source": []
  }
 ],
 "metadata": {
  "kernelspec": {
   "display_name": "Python 2",
   "language": "python",
   "name": "python2"
  },
  "language_info": {
   "codemirror_mode": {
    "name": "ipython",
    "version": 2
   },
   "file_extension": ".py",
   "mimetype": "text/x-python",
   "name": "python",
   "nbconvert_exporter": "python",
   "pygments_lexer": "ipython2",
   "version": "2.7.12"
  }
 },
 "nbformat": 4,
 "nbformat_minor": 0
}
