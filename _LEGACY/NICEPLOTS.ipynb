{
 "cells": [
  {
   "cell_type": "code",
   "execution_count": 1,
   "metadata": {
    "collapsed": false
   },
   "outputs": [
    {
     "name": "stderr",
     "output_type": "stream",
     "text": [
      "/home/d/nolearn/local/lib/python2.7/site-packages/matplotlib/font_manager.py:273: UserWarning: Matplotlib is building the font cache using fc-list. This may take a moment.\n",
      "  warnings.warn('Matplotlib is building the font cache using fc-list. This may take a moment.')\n"
     ]
    }
   ],
   "source": [
    "%load_ext autoreload\n",
    "%autoreload 2\n",
    "\n",
    "import numpy as np\n",
    "\n",
    "import sys\n",
    "sys.path.append('../')\n",
    "import compression as C\n",
    "\n",
    "from matplotlib.pyplot import imshow\n",
    "import matplotlib.pyplot as plt\n",
    "%matplotlib inline"
   ]
  },
  {
   "cell_type": "code",
   "execution_count": 2,
   "metadata": {
    "collapsed": true
   },
   "outputs": [],
   "source": [
    "import cPickle as pickle"
   ]
  },
  {
   "cell_type": "code",
   "execution_count": 4,
   "metadata": {
    "collapsed": false
   },
   "outputs": [],
   "source": [
    "with open('/home/d/data/mri_results_all.p', 'rb') as f:\n",
    "    results_all = pickle.load(f)"
   ]
  },
  {
   "cell_type": "code",
   "execution_count": 11,
   "metadata": {
    "collapsed": true
   },
   "outputs": [],
   "source": [
    "# SETUP\n",
    "\n",
    "# Iterations\n",
    "N = 1\n",
    "\n",
    "# DEFAULT --------------------------------------------------\n",
    "# Compression methods\n",
    "def_coms = [\n",
    "    C.BOCKWURST,\n",
    "    C.LZMA,\n",
    "    C.ZLIB\n",
    "]\n",
    "\n",
    "# Encoding methods\n",
    "def_encs = [\n",
    "    C.NE,\n",
    "    C.NG,\n",
    "    C.RLE\n",
    "]\n",
    "\n",
    "# ALL ------------------------------------------------------\n",
    "# compression methods\n",
    "all_coms = [\n",
    "    C.BOCKWURST,\n",
    "    C.BROTLI,\n",
    "    C.BZ2,\n",
    "    C.JPEG2000,\n",
    "    C.LZ78,\n",
    "    C.LZF,\n",
    "    C.LZMA,\n",
    "    C.LZO,\n",
    "    C.LZW,\n",
    "    C.PNG,\n",
    "    C.X264,\n",
    "    C.ZLIB,\n",
    "    C.ZOPFLI,\n",
    "    C.ZSTD\n",
    "]\n",
    "\n",
    "# encoding methods\n",
    "all_encs = [\n",
    "    C.NE,\n",
    "    C.RLE,\n",
    "    C.NG,\n",
    "    C.BOCKWURST\n",
    "]\n",
    "\n",
    "# ENCODING ONLY -------------------------------------------\n",
    "# Compression methods\n",
    "enc_only_coms = [\n",
    "    C.NC\n",
    "]\n",
    "\n",
    "# encoding methods\n",
    "enc_only_encs = [\n",
    "    C.RLE,\n",
    "    C.NG,\n",
    "    C.BOCKWURST\n",
    "]"
   ]
  },
  {
   "cell_type": "code",
   "execution_count": 10,
   "metadata": {
    "collapsed": false
   },
   "outputs": [
    {
     "data": {
      "text/plain": [
       "[682.0561021221238,\n",
       " 474.35139777345825,\n",
       " 533.539491415601,\n",
       " 741.727011986538,\n",
       " 632.1602140206107,\n",
       " 649.6218848162471,\n",
       " 727.2899726354005,\n",
       " 472.27834703299175,\n",
       " 557.0055485696973,\n",
       " 16.46672559716201,\n",
       " 502.2968174605551,\n",
       " 596.6133904678929,\n",
       " 808.7354061219571,\n",
       " 1176.2547806425605,\n",
       " 56.19185434583653,\n",
       " 168.02188252289963,\n",
       " 241.9405467278348,\n",
       " 316.35725262810536,\n",
       " 435.34780408692825,\n",
       " 742.2069057046164,\n",
       " 809.4182125195996,\n",
       " 661.158046146874,\n",
       " 77.92039700481509,\n",
       " 161.0789278504924,\n",
       " 249.16965804032225,\n",
       " 322.9298718796992,\n",
       " 102.98804514301322,\n",
       " 154.63869558404687,\n",
       " 354.14582970526925,\n",
       " 422.97013128620137,\n",
       " 262.01197053047485,\n",
       " 195.8227964820748,\n",
       " 259.23119325238093,\n",
       " 295.3312752357167,\n",
       " 481.80105178138734,\n",
       " 484.63851175688944,\n",
       " 304.4887510577431,\n",
       " 367.96275897236256,\n",
       " 561.5875010983401,\n",
       " 537.5116258580227,\n",
       " 234.6168454320435,\n",
       " 312.75466914600355,\n",
       " 447.91947858647006,\n",
       " 497.53942534743464]"
      ]
     },
     "execution_count": 10,
     "metadata": {},
     "output_type": "execute_result"
    }
   ],
   "source": [
    "results_all['ratios']"
   ]
  },
  {
   "cell_type": "code",
   "execution_count": 69,
   "metadata": {
    "collapsed": false
   },
   "outputs": [
    {
     "data": {
      "text/plain": [
       "['enc_speed',\n",
       " 'dec_speed_std',\n",
       " 'methods',\n",
       " 'total_comp_speed_std',\n",
       " 'comp_speed_std',\n",
       " 'comp_speed',\n",
       " 'bytes',\n",
       " 'decomp_speed',\n",
       " 'ratios',\n",
       " 'total_decomp_speed',\n",
       " 'dec_speed',\n",
       " 'enc_speed_std',\n",
       " 'total_comp_speed',\n",
       " 'decomp_speed_std',\n",
       " 'total_decomp_speed_std']"
      ]
     },
     "execution_count": 69,
     "metadata": {},
     "output_type": "execute_result"
    }
   ],
   "source": [
    "results_all.keys()"
   ]
  },
  {
   "cell_type": "code",
   "execution_count": 68,
   "metadata": {
    "collapsed": false
   },
   "outputs": [
    {
     "data": {
      "text/plain": [
       "<matplotlib.figure.Figure at 0x7f3336723950>"
      ]
     },
     "metadata": {},
     "output_type": "display_data"
    },
    {
     "data": {
      "image/png": "[encoded data removed]",
      "text/plain": [
       "<matplotlib.figure.Figure at 0x7f3336723ed0>"
      ]
     },
     "metadata": {},
     "output_type": "display_data"
    }
   ],
   "source": [
    "labels = []\n",
    "\n",
    "\n",
    "\n",
    "for i,m in enumerate(results_all['methods']):\n",
    "    labels.append(m.split('\\n')[0])\n",
    "    \n",
    "labels = sorted(list(set(labels)), key=lambda s: s.lower())\n",
    "\n",
    "ne = [0]*len(labels)\n",
    "rle = [0]*len(labels)\n",
    "ng = [0]*len(labels)\n",
    "bockwurst = [0]*len(labels)\n",
    "\n",
    "\n",
    "what = 'ratios'\n",
    "for i,m in enumerate(labels):\n",
    "\n",
    "    ne_index = m\n",
    "    if ne_index in results_all['methods']:\n",
    "        ne_index = results_all['methods'].index(ne_index)\n",
    "    else:\n",
    "        ne_index = -1\n",
    "    rle_index = m+'\\n with RLE'\n",
    "    if rle_index in results_all['methods']:\n",
    "        rle_index = results_all['methods'].index(rle_index)\n",
    "    else:\n",
    "        rle_index = -1\n",
    "    ng_index = m+'\\n with Neuroglancer'\n",
    "    if ng_index in results_all['methods']:\n",
    "        ng_index = results_all['methods'].index(ng_index)    \n",
    "    else:\n",
    "        ng_index = -1        \n",
    "    bockwurst_index = m+'\\n with Bockwurst'\n",
    "    if bockwurst_index in results_all['methods']:\n",
    "        bockwurst_index = results_all['methods'].index(bockwurst_index)   \n",
    "    else:\n",
    "        bockwurst_index = -1        \n",
    "    \n",
    "    if ne_index != -1:\n",
    "        ne[i] = results_all[what][ne_index]\n",
    "    if rle_index != -1:\n",
    "        rle[i] = results_all[what][rle_index]\n",
    "    if ng_index != -1:\n",
    "        ng[i] = results_all[what][ng_index]\n",
    "    if bockwurst_index != -1:\n",
    "        bockwurst[i] = results_all[what][bockwurst_index]\n",
    "\n",
    "plt.figure(figsize=(10,10))\n",
    "N = len(labels)\n",
    "ind = np.arange(N)  # the x locations for the groups\n",
    "width = 0.2       # the width of the bars\n",
    "\n",
    "fig, ax=plt.subplots()\n",
    "data1 = ax.bar(ind, ne, width, color='r', label='No encoding')\n",
    "data2 = ax.bar(ind+ width, rle, width, color='g', label='RLE')\n",
    "data3 = ax.bar(ind+ width*2, ng, width, color='b', label='Neuroglancer')\n",
    "data4 = ax.bar(ind+ width*3, bockwurst, width, color='y', label='Bockwurst')\n",
    "\n",
    "plt.ylabel('Compression Ratio')\n",
    "\n",
    "plt.legend(\n",
    "    loc='upper right'\n",
    ")\n",
    "\n",
    "v = ax.set_xticks(ind + width)\n",
    "v = ax.set_xticklabels(labels, rotation = 'vertical')        \n",
    "        "
   ]
  },
  {
   "cell_type": "code",
   "execution_count": 81,
   "metadata": {
    "collapsed": false
   },
   "outputs": [
    {
     "data": {
      "text/plain": [
       "<matplotlib.figure.Figure at 0x7f33359c90d0>"
      ]
     },
     "metadata": {},
     "output_type": "display_data"
    },
    {
     "data": {
      "image/png": "[encoded data removed]",
      "text/plain": [
       "<matplotlib.figure.Figure at 0x7f33359c9cd0>"
      ]
     },
     "metadata": {},
     "output_type": "display_data"
    }
   ],
   "source": [
    "labels = []\n",
    "\n",
    "\n",
    "\n",
    "for i,m in enumerate(results_all['methods']):\n",
    "    labels.append(m.split('\\n')[0])\n",
    "    \n",
    "labels = sorted(list(set(labels)), key=lambda s: s.lower())\n",
    "\n",
    "ne = [0]*len(labels)\n",
    "rle = [0]*len(labels)\n",
    "ng = [0]*len(labels)\n",
    "bockwurst = [0]*len(labels)\n",
    "\n",
    "\n",
    "what = 'total_comp_speed'\n",
    "for i,m in enumerate(labels):\n",
    "\n",
    "    ne_index = m\n",
    "    if ne_index in results_all['methods']:\n",
    "        ne_index = results_all['methods'].index(ne_index)\n",
    "    else:\n",
    "        ne_index = -1\n",
    "    rle_index = m+'\\n with RLE'\n",
    "    if rle_index in results_all['methods']:\n",
    "        rle_index = results_all['methods'].index(rle_index)\n",
    "    else:\n",
    "        rle_index = -1\n",
    "    ng_index = m+'\\n with Neuroglancer'\n",
    "    if ng_index in results_all['methods']:\n",
    "        ng_index = results_all['methods'].index(ng_index)    \n",
    "    else:\n",
    "        ng_index = -1        \n",
    "    bockwurst_index = m+'\\n with Bockwurst'\n",
    "    if bockwurst_index in results_all['methods']:\n",
    "        bockwurst_index = results_all['methods'].index(bockwurst_index)   \n",
    "    else:\n",
    "        bockwurst_index = -1        \n",
    "    \n",
    "    if ne_index != -1:\n",
    "        ne[i] = results_all[what][ne_index]\n",
    "    if rle_index != -1:\n",
    "        rle[i] = results_all[what][rle_index]\n",
    "    if ng_index != -1:\n",
    "        ng[i] = results_all[what][ng_index]\n",
    "    if bockwurst_index != -1:\n",
    "        bockwurst[i] = results_all[what][bockwurst_index]\n",
    "\n",
    "plt.figure(figsize=(10,10))\n",
    "N = len(labels)\n",
    "ind = np.arange(N)  # the x locations for the groups\n",
    "width = 0.2       # the width of the bars\n",
    "\n",
    "fig, ax=plt.subplots()\n",
    "data1 = ax.bar(ind, ne, width, color='r', label='No encoding')\n",
    "data2 = ax.bar(ind+ width, rle, width, color='g', label='RLE')\n",
    "data3 = ax.bar(ind+ width*2, ng, width, color='b', label='Neuroglancer')\n",
    "data4 = ax.bar(ind+ width*3, bockwurst, width, color='y', label='Bockwurst')\n",
    "\n",
    "plt.ylabel('Compression Speed (MB/s)')\n",
    "\n",
    "plt.legend(\n",
    "    loc='upper left'\n",
    ")\n",
    "\n",
    "# ax.set_yscale(\"log\", nonposy='clip')\n",
    "ax.set_ylim(0,350)\n",
    "\n",
    "v = ax.set_xticks(ind + width)\n",
    "v = ax.set_xticklabels(labels, rotation = 'vertical')        \n",
    "        "
   ]
  },
  {
   "cell_type": "code",
   "execution_count": 108,
   "metadata": {
    "collapsed": false
   },
   "outputs": [
    {
     "data": {
      "text/plain": [
       "<matplotlib.figure.Figure at 0x7f3336336cd0>"
      ]
     },
     "metadata": {},
     "output_type": "display_data"
    },
    {
     "data": {
      "image/png": "[encoded data removed]",
      "text/plain": [
       "<matplotlib.figure.Figure at 0x7f3335cd6ed0>"
      ]
     },
     "metadata": {},
     "output_type": "display_data"
    }
   ],
   "source": [
    "labels = []\n",
    "\n",
    "\n",
    "\n",
    "for i,m in enumerate(results_all['methods']):\n",
    "    labels.append(m.split('\\n')[0])\n",
    "    \n",
    "labels = sorted(list(set(labels)), key=lambda s: s.lower())\n",
    "\n",
    "ne = [0]*len(labels)\n",
    "rle = [0]*len(labels)\n",
    "ng = [0]*len(labels)\n",
    "bockwurst = [0]*len(labels)\n",
    "\n",
    "\n",
    "what = 'total_decomp_speed'\n",
    "for i,m in enumerate(labels):\n",
    "\n",
    "    ne_index = m\n",
    "    if ne_index in results_all['methods']:\n",
    "        ne_index = results_all['methods'].index(ne_index)\n",
    "    else:\n",
    "        ne_index = -1\n",
    "    rle_index = m+'\\n with RLE'\n",
    "    if rle_index in results_all['methods']:\n",
    "        rle_index = results_all['methods'].index(rle_index)\n",
    "    else:\n",
    "        rle_index = -1\n",
    "    ng_index = m+'\\n with Neuroglancer'\n",
    "    if ng_index in results_all['methods']:\n",
    "        ng_index = results_all['methods'].index(ng_index)    \n",
    "    else:\n",
    "        ng_index = -1        \n",
    "    bockwurst_index = m+'\\n with Bockwurst'\n",
    "    if bockwurst_index in results_all['methods']:\n",
    "        bockwurst_index = results_all['methods'].index(bockwurst_index)   \n",
    "    else:\n",
    "        bockwurst_index = -1        \n",
    "    \n",
    "    if ne_index != -1:\n",
    "        ne[i] = results_all[what][ne_index]\n",
    "    if rle_index != -1:\n",
    "        rle[i] = results_all[what][rle_index]\n",
    "    if ng_index != -1:\n",
    "        ng[i] = results_all[what][ng_index]\n",
    "    if bockwurst_index != -1:\n",
    "        bockwurst[i] = results_all[what][bockwurst_index]\n",
    "\n",
    "plt.figure(figsize=(10,10))\n",
    "N = len(labels)\n",
    "ind = np.arange(N)  # the x locations for the groups\n",
    "width = 0.2       # the width of the bars\n",
    "\n",
    "fig, ax=plt.subplots()\n",
    "data1 = ax.bar(ind, ne, width, color='r', label='No encoding')\n",
    "data2 = ax.bar(ind+ width, rle, width, color='g', label='RLE')\n",
    "data3 = ax.bar(ind+ width*2, ng, width, color='b', label='Neuroglancer')\n",
    "data4 = ax.bar(ind+ width*3, bockwurst, width, color='y', label='Bockwurst')\n",
    "\n",
    "plt.ylabel('Decompression Speed (MB/s)')\n",
    "\n",
    "plt.legend(\n",
    "    loc='upper left'\n",
    ")\n",
    "\n",
    "# ax.set_yscale(\"log\", nonposy='clip')\n",
    "ax.set_ylim(0,350)\n",
    "\n",
    "v = ax.set_xticks(ind + width)\n",
    "v = ax.set_xticklabels(labels, rotation = 'vertical')        \n",
    "        "
   ]
  },
  {
   "cell_type": "code",
   "execution_count": 82,
   "metadata": {
    "collapsed": true
   },
   "outputs": [],
   "source": [
    "with open('/home/d/data/mri_results_enc_only.p', 'rb') as f:\n",
    "    results_enc_only = pickle.load(f)"
   ]
  },
  {
   "cell_type": "code",
   "execution_count": 105,
   "metadata": {
    "collapsed": false
   },
   "outputs": [
    {
     "data": {
      "text/plain": [
       "<matplotlib.figure.Figure at 0x7f33368bd410>"
      ]
     },
     "metadata": {},
     "output_type": "display_data"
    },
    {
     "data": {
      "image/png": "[encoded data removed]",
      "text/plain": [
       "<matplotlib.figure.Figure at 0x7f333e66ded0>"
      ]
     },
     "metadata": {},
     "output_type": "display_data"
    }
   ],
   "source": [
    "labels = []\n",
    "\n",
    "results = results_enc_only\n",
    "\n",
    "for i,m in enumerate(results['methods']):\n",
    "    labels.append(m.split('\\n')[0])\n",
    "    \n",
    "labels = sorted(list(set(labels)), key=lambda s: s.lower())\n",
    "\n",
    "ne = [0]*len(labels)\n",
    "rle = [0]*len(labels)\n",
    "ng = [0]*len(labels)\n",
    "bockwurst = [0]*len(labels)\n",
    "\n",
    "\n",
    "what = 'ratios'\n",
    "for i,m in enumerate(labels):\n",
    "\n",
    "    ne_index = m\n",
    "    if ne_index in results['methods']:\n",
    "        ne_index = results['methods'].index(ne_index)\n",
    "    else:\n",
    "        ne_index = -1\n",
    "    rle_index = m+'\\n with RLE'\n",
    "    if rle_index in results['methods']:\n",
    "        rle_index = results['methods'].index(rle_index)\n",
    "    else:\n",
    "        rle_index = -1\n",
    "    ng_index = m+'\\n with Neuroglancer'\n",
    "    if ng_index in results['methods']:\n",
    "        ng_index = results['methods'].index(ng_index)    \n",
    "    else:\n",
    "        ng_index = -1        \n",
    "    bockwurst_index = m+'\\n with Bockwurst'\n",
    "    if bockwurst_index in results['methods']:\n",
    "        bockwurst_index = results['methods'].index(bockwurst_index)   \n",
    "    else:\n",
    "        bockwurst_index = -1        \n",
    "    \n",
    "    if ne_index != -1:\n",
    "        ne[i] = results[what][ne_index]\n",
    "    if rle_index != -1:\n",
    "        rle[i] = results[what][rle_index]\n",
    "    if ng_index != -1:\n",
    "        ng[i] = results[what][ng_index]\n",
    "    if bockwurst_index != -1:\n",
    "        bockwurst[i] = results[what][bockwurst_index]\n",
    "\n",
    "plt.figure(figsize=(10,10))\n",
    "N = len(labels)\n",
    "ind = np.arange(N)  # the x locations for the groups\n",
    "width = 0.2       # the width of the bars\n",
    "\n",
    "fig, ax=plt.subplots()\n",
    "data1 = ax.bar(ind, ne, width, color='black', label='No encoding', align='center')\n",
    "# data2 = ax.bar(ind+ width, rle, width, color='g', label='RLE')\n",
    "# data3 = ax.bar(ind+ width*2, ng, width, color='b', label='Neuroglancer')\n",
    "# data4 = ax.bar(ind+ width*3, bockwurst, width, color='y', label='Bockwurst')\n",
    "\n",
    "plt.ylabel('Encoding Ratio')\n",
    "\n",
    "# plt.legend(\n",
    "#     loc='upper right'\n",
    "# )\n",
    "\n",
    "ax.set_ylim(0,100)\n",
    "\n",
    "v = ax.set_xticks(ind)# + width)\n",
    "v = ax.set_xticklabels(labels, rotation = 'vertical')        \n",
    "        "
   ]
  },
  {
   "cell_type": "code",
   "execution_count": 111,
   "metadata": {
    "collapsed": false
   },
   "outputs": [
    {
     "data": {
      "text/plain": [
       "<matplotlib.figure.Figure at 0x7f3335acaed0>"
      ]
     },
     "metadata": {},
     "output_type": "display_data"
    },
    {
     "data": {
      "image/png": "[encoded data removed]",
      "text/plain": [
       "<matplotlib.figure.Figure at 0x7f333589bb90>"
      ]
     },
     "metadata": {},
     "output_type": "display_data"
    }
   ],
   "source": [
    "labels = []\n",
    "\n",
    "results = results_enc_only\n",
    "\n",
    "for i,m in enumerate(results['methods']):\n",
    "    labels.append(m.split('\\n')[0])\n",
    "    \n",
    "labels = sorted(list(set(labels)), key=lambda s: s.lower())\n",
    "\n",
    "ne = [0]*len(labels)\n",
    "rle = [0]*len(labels)\n",
    "ng = [0]*len(labels)\n",
    "bockwurst = [0]*len(labels)\n",
    "\n",
    "\n",
    "what = 'enc_speed'\n",
    "for i,m in enumerate(labels):\n",
    "\n",
    "    ne_index = m\n",
    "    if ne_index in results['methods']:\n",
    "        ne_index = results['methods'].index(ne_index)\n",
    "    else:\n",
    "        ne_index = -1\n",
    "    rle_index = m+'\\n with RLE'\n",
    "    if rle_index in results['methods']:\n",
    "        rle_index = results['methods'].index(rle_index)\n",
    "    else:\n",
    "        rle_index = -1\n",
    "    ng_index = m+'\\n with Neuroglancer'\n",
    "    if ng_index in results['methods']:\n",
    "        ng_index = results['methods'].index(ng_index)    \n",
    "    else:\n",
    "        ng_index = -1        \n",
    "    bockwurst_index = m+'\\n with Bockwurst'\n",
    "    if bockwurst_index in results['methods']:\n",
    "        bockwurst_index = results['methods'].index(bockwurst_index)   \n",
    "    else:\n",
    "        bockwurst_index = -1        \n",
    "    \n",
    "    if ne_index != -1:\n",
    "        ne[i] = results[what][ne_index]\n",
    "    if rle_index != -1:\n",
    "        rle[i] = results[what][rle_index]\n",
    "    if ng_index != -1:\n",
    "        ng[i] = results[what][ng_index]\n",
    "    if bockwurst_index != -1:\n",
    "        bockwurst[i] = results[what][bockwurst_index]\n",
    "\n",
    "plt.figure(figsize=(10,10))\n",
    "N = len(labels)\n",
    "ind = np.arange(N)  # the x locations for the groups\n",
    "width = 0.2       # the width of the bars\n",
    "\n",
    "fig, ax=plt.subplots()\n",
    "data1 = ax.bar(ind, ne, width, color='black', label='No encoding', align='center')\n",
    "# data2 = ax.bar(ind+ width, rle, width, color='g', label='RLE')\n",
    "# data3 = ax.bar(ind+ width*2, ng, width, color='b', label='Neuroglancer')\n",
    "# data4 = ax.bar(ind+ width*3, bockwurst, width, color='y', label='Bockwurst')\n",
    "\n",
    "plt.ylabel('Encoding Speed (MB/s)')\n",
    "\n",
    "# plt.legend(\n",
    "#     loc='upper right'\n",
    "# )\n",
    "\n",
    "# ax.set_ylim(0,100)\n",
    "\n",
    "v = ax.set_xticks(ind)# + width)\n",
    "v = ax.set_xticklabels(labels, rotation = 'vertical')        \n",
    "        "
   ]
  },
  {
   "cell_type": "code",
   "execution_count": 119,
   "metadata": {
    "collapsed": false
   },
   "outputs": [
    {
     "data": {
      "text/plain": [
       "<matplotlib.figure.Figure at 0x7f333604a950>"
      ]
     },
     "metadata": {},
     "output_type": "display_data"
    },
    {
     "data": {
      "image/png": "[encoded data removed]",
      "text/plain": [
       "<matplotlib.figure.Figure at 0x7f333604ab10>"
      ]
     },
     "metadata": {},
     "output_type": "display_data"
    }
   ],
   "source": [
    "labels = []\n",
    "\n",
    "results = results_enc_only\n",
    "\n",
    "for i,m in enumerate(results['methods']):\n",
    "    labels.append(m.split('\\n')[0])\n",
    "    \n",
    "labels = sorted(list(set(labels)), key=lambda s: s.lower())\n",
    "\n",
    "ne = [0]*len(labels)\n",
    "rle = [0]*len(labels)\n",
    "ng = [0]*len(labels)\n",
    "bockwurst = [0]*len(labels)\n",
    "\n",
    "\n",
    "what = 'dec_speed'\n",
    "for i,m in enumerate(labels):\n",
    "\n",
    "    ne_index = m\n",
    "    if ne_index in results['methods']:\n",
    "        ne_index = results['methods'].index(ne_index)\n",
    "    else:\n",
    "        ne_index = -1\n",
    "    rle_index = m+'\\n with RLE'\n",
    "    if rle_index in results['methods']:\n",
    "        rle_index = results['methods'].index(rle_index)\n",
    "    else:\n",
    "        rle_index = -1\n",
    "    ng_index = m+'\\n with Neuroglancer'\n",
    "    if ng_index in results['methods']:\n",
    "        ng_index = results['methods'].index(ng_index)    \n",
    "    else:\n",
    "        ng_index = -1        \n",
    "    bockwurst_index = m+'\\n with Bockwurst'\n",
    "    if bockwurst_index in results['methods']:\n",
    "        bockwurst_index = results['methods'].index(bockwurst_index)   \n",
    "    else:\n",
    "        bockwurst_index = -1        \n",
    "    \n",
    "    if ne_index != -1:\n",
    "        ne[i] = results[what][ne_index]\n",
    "    if rle_index != -1:\n",
    "        rle[i] = results[what][rle_index]\n",
    "    if ng_index != -1:\n",
    "        ng[i] = results[what][ng_index]\n",
    "    if bockwurst_index != -1:\n",
    "        bockwurst[i] = results[what][bockwurst_index]\n",
    "\n",
    "plt.figure(figsize=(10,10))\n",
    "N = len(labels)\n",
    "ind = np.arange(N)  # the x locations for the groups\n",
    "width = 0.2       # the width of the bars\n",
    "\n",
    "fig, ax=plt.subplots()\n",
    "data1 = ax.bar(ind, ne, width, color='black', label='No encoding', align='center')\n",
    "# data2 = ax.bar(ind+ width, rle, width, color='g', label='RLE')\n",
    "# data3 = ax.bar(ind+ width*2, ng, width, color='b', label='Neuroglancer')\n",
    "# data4 = ax.bar(ind+ width*3, bockwurst, width, color='y', label='Bockwurst')\n",
    "\n",
    "plt.ylabel('Decoding Speed (MB/s)')\n",
    "\n",
    "# plt.legend(\n",
    "#     loc='upper right'\n",
    "# )\n",
    "\n",
    "ax.get_yaxis().get_major_formatter().set_useOffset(False)\n",
    "v = ax.set_xticks(ind)# + width)\n",
    "v = ax.set_xticklabels(labels, rotation = 'vertical')        \n",
    "        "
   ]
  },
  {
   "cell_type": "code",
   "execution_count": null,
   "metadata": {
    "collapsed": true
   },
   "outputs": [],
   "source": []
  }
 ],
 "metadata": {
  "kernelspec": {
   "display_name": "Python 2",
   "language": "python",
   "name": "python2"
  },
  "language_info": {
   "codemirror_mode": {
    "name": "ipython",
    "version": 2
   },
   "file_extension": ".py",
   "mimetype": "text/x-python",
   "name": "python",
   "nbconvert_exporter": "python",
   "pygments_lexer": "ipython2",
   "version": "2.7.6"
  }
 },
 "nbformat": 4,
 "nbformat_minor": 0
}
