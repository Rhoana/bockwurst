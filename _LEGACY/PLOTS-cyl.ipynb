{
 "cells": [
  {
   "cell_type": "code",
   "execution_count": 1,
   "metadata": {
    "collapsed": false
   },
   "outputs": [
    {
     "name": "stderr",
     "output_type": "stream",
     "text": [
      "/home/d/nolearn/local/lib/python2.7/site-packages/matplotlib/font_manager.py:273: UserWarning: Matplotlib is building the font cache using fc-list. This may take a moment.\n",
      "  warnings.warn('Matplotlib is building the font cache using fc-list. This may take a moment.')\n"
     ]
    }
   ],
   "source": [
    "%load_ext autoreload\n",
    "%autoreload 2\n",
    "\n",
    "import numpy as np\n",
    "\n",
    "import sys\n",
    "sys.path.append('../')\n",
    "import compression as C\n",
    "import cPickle as pickle\n",
    "\n",
    "from matplotlib.pyplot import imshow\n",
    "import matplotlib.pyplot as plt\n",
    "%matplotlib inline\n",
    "\n",
    "colors_3 = ['#000000', '#666666', '#666666']"
   ]
  },
  {
   "cell_type": "code",
   "execution_count": 2,
   "metadata": {
    "collapsed": true
   },
   "outputs": [],
   "source": [
    "# Load CYLINDER: ALL\n",
    "\n",
    "with open('/home/d/data/cyl_results_all.p', 'rb') as f:\n",
    "    results_cyl_all = pickle.load(f)"
   ]
  },
  {
   "cell_type": "code",
   "execution_count": 3,
   "metadata": {
    "collapsed": true
   },
   "outputs": [],
   "source": [
    "# Load CYLINDER: ENC ONLY\n",
    "\n",
    "with open('/home/d/data/cyl_results_enc_only.p', 'rb') as f:\n",
    "    results_cyl_enc_only = pickle.load(f)"
   ]
  },
  {
   "cell_type": "code",
   "execution_count": 21,
   "metadata": {
    "collapsed": false
   },
   "outputs": [],
   "source": [
    "# Plot results for experiments setup: all\n",
    "\n",
    "def plot_all(results, what, x_range=None, y_range=None, name=None, leg=True, leg_loc='right', no_bw=True):\n",
    "    \n",
    "    if name is None:\n",
    "        raise ValueError('Holy Moly you haven\\'t specified a `name`! Shame on you.')\n",
    "        \n",
    "    if what not in results:\n",
    "        raise ValueError('Wrong `what` parameter. Not found in `results`.')\n",
    "    \n",
    "    labels = []\n",
    "\n",
    "    for i, method in enumerate(results['methods']):\n",
    "        labels.append(method.split('\\n')[0])\n",
    "    \n",
    "    labels = sorted(list(set(labels)), key=lambda s: s.lower())\n",
    "\n",
    "    ne = [0]*len(labels)\n",
    "    rle = [0]*len(labels)\n",
    "    ng = [0]*len(labels)\n",
    "    bockwurst = [0]*len(labels)\n",
    "    \n",
    "    if what == 'bytes':\n",
    "        input_bytes = C.Util.get_size(results['bytes'][0])\n",
    "        bytes = [C.Util.get_size(v) for v in results['bytes'][1:]]\n",
    "\n",
    "    for i, label in enumerate(labels):\n",
    "\n",
    "        ne_index = label\n",
    "        \n",
    "        if ne_index in results['methods']:\n",
    "            ne_index = results['methods'].index(ne_index)\n",
    "        else:\n",
    "            ne_index = -1\n",
    "            \n",
    "        rle_index = label + '\\n with RLE'\n",
    "        \n",
    "        if rle_index in results['methods']:\n",
    "            rle_index = results['methods'].index(rle_index)\n",
    "        else:\n",
    "            rle_index = -1\n",
    "            \n",
    "        ng_index = label + '\\n with Neuroglancer'\n",
    "        \n",
    "        if ng_index in results['methods']:\n",
    "            ng_index = results['methods'].index(ng_index)    \n",
    "        else:\n",
    "            ng_index = -1        \n",
    "            \n",
    "        bockwurst_index = label + '\\n with Bockwurst'\n",
    "        \n",
    "        if bockwurst_index in results['methods']:\n",
    "            bockwurst_index = results['methods'].index(bockwurst_index)   \n",
    "        else:\n",
    "            bockwurst_index = -1\n",
    "        \n",
    "        if what == 'bytes':\n",
    "            if ne_index != -1:\n",
    "                ne[i] = bytes[ne_index]\n",
    "            if rle_index != -1:\n",
    "                rle[i] = bytes[rle_index]\n",
    "            if ng_index != -1:\n",
    "                ng[i] = bytes[ng_index]\n",
    "            if bockwurst_index != -1:\n",
    "                bockwurst[i] = bytes[bockwurst_index]\n",
    "        else:\n",
    "            if ne_index != -1:\n",
    "                ne[i] = results[what][ne_index]\n",
    "            if rle_index != -1:\n",
    "                rle[i] = results[what][rle_index]\n",
    "            if ng_index != -1:\n",
    "                ng[i] = results[what][ng_index]\n",
    "            if bockwurst_index != -1:\n",
    "                bockwurst[i] = results[what][bockwurst_index]\n",
    "            \n",
    "\n",
    "    plt.figure(figsize=(10,10))\n",
    "    N = len(labels)\n",
    "    ind = np.arange(N)  # the x locations for the groups\n",
    "    width = 0.2       # the width of the bars\n",
    "\n",
    "    font = {\n",
    "        'family': 'sans-serif',\n",
    "        'size': 13.5\n",
    "    }\n",
    "    plt.rc('font', **font)\n",
    "    \n",
    "    #ne_width = [width * 1.5] + [width] * (len(ne) - 1)\n",
    "    #ne_colors = ['#000000'] + ['#b2b2b2'] * (len(ne) - 1)\n",
    "    \n",
    "    if no_bw:\n",
    "        ind = ind[1:]\n",
    "        ne = ne[1:]\n",
    "        rle = rle[1:]\n",
    "        ng = ng[1:]\n",
    "        bockwurst = bockwurst[1:]\n",
    "        labels = labels[1:]\n",
    "    \n",
    "    lab_ne = 'No encoding'\n",
    "    lab_rle = 'RLE'\n",
    "    lab_ng = 'Neuroglancer'\n",
    "    lab_bw = 'Bockwurst'\n",
    "        \n",
    "    if what == 'bytes':\n",
    "        lab_ne = None\n",
    "        lab_rle = None\n",
    "        lab_ng = None\n",
    "        lab_bw = None\n",
    "\n",
    "    fig, ax=plt.subplots()\n",
    "    data1 = ax.bar(ind, ne, width, color='#b2b2b2', label=lab_ne, edgecolor='#ffffff')\n",
    "    data2 = ax.bar(ind + width, rle, width, color='#8c8c8c', label=lab_rle, edgecolor='#ffffff')\n",
    "    data3 = ax.bar(ind + width * 2, ng, width, color='#666666', label=lab_ng, edgecolor='#ffffff')\n",
    "    data4 = ax.bar(ind + width * 3, bockwurst, width, color='#dc133b', label=lab_bw, edgecolor='#ffffff')\n",
    "    \n",
    "    if what == 'bytes':\n",
    "        ax.axhline(y=input_bytes, color='gray', label='Input', linewidth=2, linestyle='--')\n",
    "\n",
    "    ax.tick_params(color='#333333', labelcolor='#333333')\n",
    "    for spine in ax.spines.values():\n",
    "        spine.set_edgecolor('#cccccc')\n",
    "        \n",
    "    ylabel = 'Compression Ratio\\n(Original / Compressed)'\n",
    "    \n",
    "    if what.endswith('comp_speed'):\n",
    "        ylabel = 'Compression Speed\\n(MB/s)'\n",
    "    \n",
    "    if what.endswith('decomp_speed'):\n",
    "        ylabel = 'Decompression Speed\\n(MB/s)'\n",
    "    \n",
    "    if what.endswith('bytes'):\n",
    "        ylabel = 'Size\\n(MB)'\n",
    "        ax.set_yscale('log', nonposy='clip')\n",
    "\n",
    "    plt.ylabel(ylabel)\n",
    "\n",
    "    if leg:\n",
    "        leg = plt.legend(\n",
    "        loc='upper %s' % leg_loc,\n",
    "            prop={\n",
    "                'size': 13\n",
    "            }\n",
    "        )\n",
    "        if what != 'bytes':\n",
    "            leg.legendHandles[0].set_color('#b2b2b2')\n",
    "            leg.legendHandles[1].set_color('#8c8c8c')\n",
    "            leg.legendHandles[2].set_color('#666666')\n",
    "            leg.legendHandles[3].set_color('#dc133b')\n",
    "        frm = leg.get_frame()\n",
    "        frm.set_edgecolor('#f5f5f5')\n",
    "        frm.set_facecolor('#f5f5f5')\n",
    "\n",
    "    v = ax.set_xticks(ind + width)\n",
    "    v = ax.set_xticklabels(labels, rotation = 'vertical')\n",
    "    \n",
    "    if y_range is not None:\n",
    "        plt.ylim(y_range)\n",
    "    \n",
    "    if no_bw:\n",
    "        plt.xlim(0.5, len(ne) + 1)\n",
    "    else:\n",
    "        plt.xlim(-0.5, len(ne) + 0.5)\n",
    "    \n",
    "    plt.tick_params(\n",
    "        axis='x',\n",
    "        which='both',\n",
    "        bottom='off',\n",
    "        top='off'\n",
    "    )\n",
    "    \n",
    "    plt.savefig(\n",
    "        '/home/d/Projects/cs222finalproject/PAPER/gfx/%s_compression_%s.pdf' % (name, what),\n",
    "        bbox_inches='tight'\n",
    "    )"
   ]
  },
  {
   "cell_type": "code",
   "execution_count": null,
   "metadata": {
    "collapsed": true
   },
   "outputs": [],
   "source": [
    "results_cyl_all"
   ]
  },
  {
   "cell_type": "code",
   "execution_count": 24,
   "metadata": {
    "collapsed": false
   },
   "outputs": [
    {
     "data": {
      "text/plain": [
       "[898.1282855643944,\n",
       " 361.4556281602992,\n",
       " 305.1021989189079,\n",
       " 323.15127472358563,\n",
       " 859.5233106257887,\n",
       " 6.6768293357534585,\n",
       " 202.15973269036354,\n",
       " 470.1766874170994,\n",
       " 504.9044043516861,\n",
       " 1939.2016052503525,\n",
       " 345.9171294093196,\n",
       " 859.837393040619,\n",
       " 500.24258933704175,\n",
       " 844.2080135578756,\n",
       " 65.65338363368349,\n",
       " 149.47623851100525,\n",
       " 120.26467780778603,\n",
       " 377.7171158786611,\n",
       " 10.033444664043369,\n",
       " 140.07207979522374,\n",
       " 154.25092496957222,\n",
       " 497.5417123613073,\n",
       " 163.8197625000427,\n",
       " 22.62575849495128,\n",
       " 139.16120145740388,\n",
       " 266.2617377746855,\n",
       " 304.6649990239296,\n",
       " 560.4295780881771,\n",
       " 194.09571154303353,\n",
       " 380.8762925097715,\n",
       " 309.19742214091906,\n",
       " 568.9014277454982]"
      ]
     },
     "execution_count": 24,
     "metadata": {},
     "output_type": "execute_result"
    }
   ],
   "source": [
    "results_cyl_all['ratios']"
   ]
  },
  {
   "cell_type": "code",
   "execution_count": 22,
   "metadata": {
    "collapsed": false
   },
   "outputs": [
    {
     "data": {
      "text/plain": [
       "<matplotlib.figure.Figure at 0x7f366e8306d0>"
      ]
     },
     "metadata": {},
     "output_type": "display_data"
    },
    {
     "data": {
      "image/png": "[encoded data removed]",
      "text/plain": [
       "<matplotlib.figure.Figure at 0x7f366e7ea450>"
      ]
     },
     "metadata": {},
     "output_type": "display_data"
    }
   ],
   "source": [
    "plot_all(results_cyl_all, what='bytes', name='cyl')"
   ]
  },
  {
   "cell_type": "code",
   "execution_count": 23,
   "metadata": {
    "collapsed": false
   },
   "outputs": [
    {
     "data": {
      "text/plain": [
       "<matplotlib.figure.Figure at 0x7f366ed19bd0>"
      ]
     },
     "metadata": {},
     "output_type": "display_data"
    },
    {
     "data": {
      "image/png": "[encoded data removed]",
      "text/plain": [
       "<matplotlib.figure.Figure at 0x7f366eb43dd0>"
      ]
     },
     "metadata": {},
     "output_type": "display_data"
    }
   ],
   "source": [
    "plot_all(results_cyl_all, what='ratios', name='cyl')"
   ]
  },
  {
   "cell_type": "code",
   "execution_count": 14,
   "metadata": {
    "collapsed": false
   },
   "outputs": [
    {
     "data": {
      "text/plain": [
       "<matplotlib.figure.Figure at 0x7f366e9663d0>"
      ]
     },
     "metadata": {},
     "output_type": "display_data"
    },
    {
     "data": {
      "image/png": "[encoded data removed]",
      "text/plain": [
       "<matplotlib.figure.Figure at 0x7f366e98a250>"
      ]
     },
     "metadata": {},
     "output_type": "display_data"
    }
   ],
   "source": [
    "plot_all(results_cyl_all, what='total_comp_speed', name='cyl', leg=False, y_range=[0,200])"
   ]
  },
  {
   "cell_type": "code",
   "execution_count": 9,
   "metadata": {
    "collapsed": false
   },
   "outputs": [
    {
     "data": {
      "text/plain": [
       "<matplotlib.figure.Figure at 0x7f366ece6f10>"
      ]
     },
     "metadata": {},
     "output_type": "display_data"
    },
    {
     "data": {
      "image/png": "[encoded data removed]",
      "text/plain": [
       "<matplotlib.figure.Figure at 0x7f366eaef990>"
      ]
     },
     "metadata": {},
     "output_type": "display_data"
    }
   ],
   "source": [
    "plot_all(results_cyl_all, what='total_decomp_speed', name='cyl', leg=False, y_range=[0,200])"
   ]
  },
  {
   "cell_type": "code",
   "execution_count": 10,
   "metadata": {
    "collapsed": false
   },
   "outputs": [
    {
     "data": {
      "text/plain": [
       "<matplotlib.figure.Figure at 0x7f36363e0910>"
      ]
     },
     "metadata": {},
     "output_type": "display_data"
    },
    {
     "data": {
      "image/png": "[encoded data removed]",
      "text/plain": [
       "<matplotlib.figure.Figure at 0x7f36363e0490>"
      ]
     },
     "metadata": {},
     "output_type": "display_data"
    }
   ],
   "source": [
    "labels = []\n",
    "\n",
    "results = results_cyl_enc_only\n",
    "\n",
    "for i,m in enumerate(results['methods']):\n",
    "    labels.append(m.split('\\n')[0])\n",
    "    \n",
    "labels = sorted(list(set(labels)), key=lambda s: s.lower())\n",
    "\n",
    "ne = [0]*len(labels)\n",
    "rle = [0]*len(labels)\n",
    "ng = [0]*len(labels)\n",
    "bockwurst = [0]*len(labels)\n",
    "\n",
    "\n",
    "what = 'ratios'\n",
    "for i,m in enumerate(labels):\n",
    "\n",
    "    ne_index = m\n",
    "    if ne_index in results['methods']:\n",
    "        ne_index = results['methods'].index(ne_index)\n",
    "    else:\n",
    "        ne_index = -1\n",
    "    rle_index = m+'\\n with RLE'\n",
    "    if rle_index in results['methods']:\n",
    "        rle_index = results['methods'].index(rle_index)\n",
    "    else:\n",
    "        rle_index = -1\n",
    "    ng_index = m+'\\n with Neuroglancer'\n",
    "    if ng_index in results['methods']:\n",
    "        ng_index = results['methods'].index(ng_index)    \n",
    "    else:\n",
    "        ng_index = -1        \n",
    "    bockwurst_index = m+'\\n with Bockwurst'\n",
    "    if bockwurst_index in results['methods']:\n",
    "        bockwurst_index = results['methods'].index(bockwurst_index)   \n",
    "    else:\n",
    "        bockwurst_index = -1        \n",
    "    \n",
    "    if ne_index != -1:\n",
    "        ne[i] = results[what][ne_index]\n",
    "    if rle_index != -1:\n",
    "        rle[i] = results[what][rle_index]\n",
    "    if ng_index != -1:\n",
    "        ng[i] = results[what][ng_index]\n",
    "    if bockwurst_index != -1:\n",
    "        bockwurst[i] = results[what][bockwurst_index]\n",
    "\n",
    "plt.figure(figsize=(10,10))\n",
    "N = len(labels)\n",
    "ind = np.arange(N)  # the x locations for the groups\n",
    "width = 0.2       # the width of the bars\n",
    "\n",
    "fig, ax=plt.subplots()\n",
    "data1 = ax.bar(ind, ne, width, color=colors_3, label='No encoding', align='center', edgecolor='#ffffff')\n",
    "# data2 = ax.bar(ind+ width, rle, width, color='g', label='RLE')\n",
    "# data3 = ax.bar(ind+ width*2, ng, width, color='b', label='Neuroglancer')\n",
    "# data4 = ax.bar(ind+ width*3, bockwurst, width, color='y', label='Bockwurst')\n",
    "\n",
    "plt.ylabel('Encoding Ratio\\n(Original / Encoded)')\n",
    "\n",
    "# plt.legend(\n",
    "#     loc='upper right'\n",
    "# )\n",
    "\n",
    "ax.set_ylim(0,100)\n",
    "\n",
    "v = ax.set_xticks(ind)# + width)\n",
    "v = ax.set_xticklabels(labels)#, rotation = 'vertical')\n",
    "\n",
    "ax.tick_params(color='#333333', labelcolor='#333333')\n",
    "for spine in ax.spines.values():\n",
    "    spine.set_edgecolor('#cccccc')\n",
    "    \n",
    "plt.tick_params(\n",
    "    axis='x',\n",
    "    which='both',\n",
    "    bottom='off',\n",
    "    top='off'\n",
    ")\n",
    "\n",
    "plt.savefig('/home/d/Projects/cs222finalproject/PAPER/gfx/cyl_enconly_ratio.pdf',bbox_inches='tight')\n",
    "        "
   ]
  },
  {
   "cell_type": "code",
   "execution_count": 11,
   "metadata": {
    "collapsed": false
   },
   "outputs": [
    {
     "data": {
      "text/plain": [
       "<matplotlib.figure.Figure at 0x7f366ed7b490>"
      ]
     },
     "metadata": {},
     "output_type": "display_data"
    },
    {
     "data": {
      "image/png": "[encoded data removed]",
      "text/plain": [
       "<matplotlib.figure.Figure at 0x7f363da77750>"
      ]
     },
     "metadata": {},
     "output_type": "display_data"
    }
   ],
   "source": [
    "labels = []\n",
    "\n",
    "results = results_cyl_enc_only\n",
    "\n",
    "for i,m in enumerate(results['methods']):\n",
    "    labels.append(m.split('\\n')[0])\n",
    "    \n",
    "labels = sorted(list(set(labels)), key=lambda s: s.lower())\n",
    "\n",
    "ne = [0]*len(labels)\n",
    "rle = [0]*len(labels)\n",
    "ng = [0]*len(labels)\n",
    "bockwurst = [0]*len(labels)\n",
    "\n",
    "\n",
    "what = 'total_comp_speed'\n",
    "for i,m in enumerate(labels):\n",
    "\n",
    "    ne_index = m\n",
    "    if ne_index in results['methods']:\n",
    "        ne_index = results['methods'].index(ne_index)\n",
    "    else:\n",
    "        ne_index = -1\n",
    "    rle_index = m+'\\n with RLE'\n",
    "    if rle_index in results['methods']:\n",
    "        rle_index = results['methods'].index(rle_index)\n",
    "    else:\n",
    "        rle_index = -1\n",
    "    ng_index = m+'\\n with Neuroglancer'\n",
    "    if ng_index in results['methods']:\n",
    "        ng_index = results['methods'].index(ng_index)    \n",
    "    else:\n",
    "        ng_index = -1        \n",
    "    bockwurst_index = m+'\\n with Bockwurst'\n",
    "    if bockwurst_index in results['methods']:\n",
    "        bockwurst_index = results['methods'].index(bockwurst_index)   \n",
    "    else:\n",
    "        bockwurst_index = -1        \n",
    "    \n",
    "    if ne_index != -1:\n",
    "        ne[i] = results[what][ne_index]\n",
    "    if rle_index != -1:\n",
    "        rle[i] = results[what][rle_index]\n",
    "    if ng_index != -1:\n",
    "        ng[i] = results[what][ng_index]\n",
    "    if bockwurst_index != -1:\n",
    "        bockwurst[i] = results[what][bockwurst_index]\n",
    "\n",
    "plt.figure(figsize=(10,10))\n",
    "N = len(labels)\n",
    "ind = np.arange(N)  # the x locations for the groups\n",
    "width = 0.2       # the width of the bars\n",
    "\n",
    "fig, ax=plt.subplots()\n",
    "data1 = ax.bar(ind, ne, width, color=colors_3, label='No encoding', align='center', edgecolor='#ffffff')\n",
    "# data2 = ax.bar(ind+ width, rle, width, color='g', label='RLE')\n",
    "# data3 = ax.bar(ind+ width*2, ng, width, color='b', label='Neuroglancer')\n",
    "# data4 = ax.bar(ind+ width*3, bockwurst, width, color='y', label='Bockwurst')\n",
    "\n",
    "plt.ylabel('Encoding Speed\\n(MB/s)')\n",
    "\n",
    "# plt.legend(\n",
    "#     loc='upper right'\n",
    "# )\n",
    "\n",
    "# ax.set_ylim(0,100)\n",
    "\n",
    "v = ax.set_xticks(ind)# + width)\n",
    "v = ax.set_xticklabels(labels)#, rotation = 'vertical')\n",
    "\n",
    "ax.tick_params(color='#333333', labelcolor='#333333')\n",
    "for spine in ax.spines.values():\n",
    "    spine.set_edgecolor('#cccccc')\n",
    "    \n",
    "plt.tick_params(\n",
    "    axis='x',\n",
    "    which='both',\n",
    "    bottom='off',\n",
    "    top='off'\n",
    ")     \n",
    "        \n",
    "plt.savefig('/home/d/Projects/cs222finalproject/PAPER/gfx/cyl_enconly_encodingspeed.pdf',bbox_inches='tight')"
   ]
  },
  {
   "cell_type": "code",
   "execution_count": 12,
   "metadata": {
    "collapsed": false
   },
   "outputs": [
    {
     "data": {
      "text/plain": [
       "<matplotlib.figure.Figure at 0x7f363c141c10>"
      ]
     },
     "metadata": {},
     "output_type": "display_data"
    },
    {
     "data": {
      "image/png": "[encoded data removed]",
      "text/plain": [
       "<matplotlib.figure.Figure at 0x7f363c141c90>"
      ]
     },
     "metadata": {},
     "output_type": "display_data"
    }
   ],
   "source": [
    "labels = []\n",
    "\n",
    "results = results_cyl_enc_only\n",
    "\n",
    "for i,m in enumerate(results['methods']):\n",
    "    labels.append(m.split('\\n')[0])\n",
    "    \n",
    "labels = sorted(list(set(labels)), key=lambda s: s.lower())\n",
    "\n",
    "ne = [0]*len(labels)\n",
    "rle = [0]*len(labels)\n",
    "ng = [0]*len(labels)\n",
    "bockwurst = [0]*len(labels)\n",
    "\n",
    "\n",
    "what = 'total_decomp_speed'\n",
    "for i,m in enumerate(labels):\n",
    "\n",
    "    ne_index = m\n",
    "    if ne_index in results['methods']:\n",
    "        ne_index = results['methods'].index(ne_index)\n",
    "    else:\n",
    "        ne_index = -1\n",
    "    rle_index = m+'\\n with RLE'\n",
    "    if rle_index in results['methods']:\n",
    "        rle_index = results['methods'].index(rle_index)\n",
    "    else:\n",
    "        rle_index = -1\n",
    "    ng_index = m+'\\n with Neuroglancer'\n",
    "    if ng_index in results['methods']:\n",
    "        ng_index = results['methods'].index(ng_index)    \n",
    "    else:\n",
    "        ng_index = -1        \n",
    "    bockwurst_index = m+'\\n with Bockwurst'\n",
    "    if bockwurst_index in results['methods']:\n",
    "        bockwurst_index = results['methods'].index(bockwurst_index)   \n",
    "    else:\n",
    "        bockwurst_index = -1        \n",
    "    \n",
    "    if ne_index != -1:\n",
    "        ne[i] = results[what][ne_index]\n",
    "    if rle_index != -1:\n",
    "        rle[i] = results[what][rle_index]\n",
    "    if ng_index != -1:\n",
    "        ng[i] = results[what][ng_index]\n",
    "    if bockwurst_index != -1:\n",
    "        bockwurst[i] = results[what][bockwurst_index]\n",
    "\n",
    "plt.figure(figsize=(10,10))\n",
    "N = len(labels)\n",
    "ind = np.arange(N)  # the x locations for the groups\n",
    "width = 0.2       # the width of the bars\n",
    "\n",
    "fig, ax=plt.subplots()\n",
    "data1 = ax.bar(ind, ne, width, color=colors_3, label='No encoding', align='center', edgecolor='#ffffff')\n",
    "# data2 = ax.bar(ind+ width, rle, width, color='g', label='RLE')\n",
    "# data3 = ax.bar(ind+ width*2, ng, width, color='b', label='Neuroglancer')\n",
    "# data4 = ax.bar(ind+ width*3, bockwurst, width, color='y', label='Bockwurst')\n",
    "\n",
    "plt.ylabel('Decoding Speed\\n(MB/s)')\n",
    "\n",
    "# plt.legend(\n",
    "#     loc='upper right'\n",
    "# )\n",
    "\n",
    "# ax.set_ylim(0,100)\n",
    "\n",
    "v = ax.set_xticks(ind)# + width)\n",
    "v = ax.set_xticklabels(labels)#, rotation = 'vertical')  \n",
    "\n",
    "ax.tick_params(color='#333333', labelcolor='#333333')\n",
    "for spine in ax.spines.values():\n",
    "    spine.set_edgecolor('#cccccc')\n",
    "    \n",
    "plt.tick_params(\n",
    "    axis='x',\n",
    "    which='both',\n",
    "    bottom='off',\n",
    "    top='off'\n",
    ")   \n",
    "        \n",
    "plt.savefig('/home/d/Projects/cs222finalproject/PAPER/gfx/cyl_enconly_decodingspeed.pdf',bbox_inches='tight')"
   ]
  },
  {
   "cell_type": "code",
   "execution_count": 13,
   "metadata": {
    "collapsed": false
   },
   "outputs": [
    {
     "data": {
      "text/plain": [
       "<matplotlib.figure.Figure at 0x7f366ec0f090>"
      ]
     },
     "metadata": {},
     "output_type": "display_data"
    },
    {
     "data": {
      "image/png": "[encoded data removed]",
      "text/plain": [
       "<matplotlib.figure.Figure at 0x7f366ec0f990>"
      ]
     },
     "metadata": {},
     "output_type": "display_data"
    }
   ],
   "source": [
    "labels = []\n",
    "\n",
    "results = results_cyl_enc_only\n",
    "\n",
    "labels = results['methods']\n",
    "\n",
    "bytes = [C.Util.get_size(v) for v in results['bytes'][1:]]\n",
    "\n",
    "labels, bytes = zip(*sorted(zip(labels, bytes)))\n",
    "\n",
    "input_bytes = len(results['bytes'][0])\n",
    "\n",
    "plt.figure(figsize=(10,10))\n",
    "N = len(labels)\n",
    "ind = np.arange(N)  # the x locations for the groups\n",
    "width = 0.2       # the width of the bars\n",
    "\n",
    "fig, ax=plt.subplots()\n",
    "data1 = ax.bar(ind, bytes, width, color=colors_3, align='center', edgecolor='#ffffff')\n",
    "\n",
    "ax.axhline(y=input_bytes, color='gray', label='Input', linewidth=2, linestyle='--')\n",
    "\n",
    "plt.ylabel('Size (MB)')\n",
    "ax.set_yscale(\"log\", nonposy='clip')\n",
    "\n",
    "\n",
    "leg = plt.legend(\n",
    "    loc='upper right',\n",
    "    prop={\n",
    "        'size': 13\n",
    "    }\n",
    ")\n",
    "frm = leg.get_frame()\n",
    "frm.set_edgecolor('#f5f5f5')\n",
    "frm.set_facecolor('#f5f5f5')\n",
    "\n",
    "v = ax.set_xticks(ind)# + width)\n",
    "v = ax.set_xticklabels(labels)#, rotation = 'vertical')  \n",
    "\n",
    "ax.tick_params(color='#333333', labelcolor='#333333')\n",
    "for spine in ax.spines.values():\n",
    "    spine.set_edgecolor('#cccccc')\n",
    "    \n",
    "plt.tick_params(\n",
    "    axis='x',\n",
    "    which='both',\n",
    "    bottom='off',\n",
    "    top='off'\n",
    ")\n",
    "        \n",
    "plt.savefig('/home/d/Projects/cs222finalproject/PAPER/gfx/cyl_enconly_bytes.pdf',bbox_inches='tight')"
   ]
  },
  {
   "cell_type": "code",
   "execution_count": null,
   "metadata": {
    "collapsed": true
   },
   "outputs": [],
   "source": []
  },
  {
   "cell_type": "code",
   "execution_count": null,
   "metadata": {
    "collapsed": true
   },
   "outputs": [],
   "source": []
  },
  {
   "cell_type": "code",
   "execution_count": null,
   "metadata": {
    "collapsed": true
   },
   "outputs": [],
   "source": []
  }
 ],
 "metadata": {
  "kernelspec": {
   "display_name": "Python 2",
   "language": "python",
   "name": "python2"
  },
  "language_info": {
   "codemirror_mode": {
    "name": "ipython",
    "version": 2
   },
   "file_extension": ".py",
   "mimetype": "text/x-python",
   "name": "python",
   "nbconvert_exporter": "python",
   "pygments_lexer": "ipython2",
   "version": "2.7.6"
  }
 },
 "nbformat": 4,
 "nbformat_minor": 0
}
